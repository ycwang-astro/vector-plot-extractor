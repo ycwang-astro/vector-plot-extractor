{
 "cells": [
  {
   "cell_type": "markdown",
   "id": "f4e167d2-5717-40f0-83bb-1d8ae024fe37",
   "metadata": {},
   "source": [
    "# Error report\n",
    "This analyzes the error of the extracted data.\n",
    "\n",
    "## IMPORTANT: Potential systematic errors in scatter plots\n",
    "Scatter plots display data points using markers. Common markers include symmetric shapes such as circles, triangles, squares, etc. However, any arbitraty shape can be used as markers. This makes extracting the true underlying data from markers non-trivial, as vector images record the shapes of markers rather than the actual data they represent.\n",
    "\n",
    "As of vector-plot-extractor version 0.1.3, the data of scatter plots are extracted by calculaing the mean coordinates of the markers' boundary points. This works for normal markers; however, it *may* introduce systematic errors for irregular (assymetric) markers. **I recommend visually inspecting the accuracy of the extracted data to ensure it meets your requirments.**\n"
   ]
  }
 ],
 "metadata": {
  "kernelspec": {
   "display_name": "Python 3 (ipykernel)",
   "language": "python",
   "name": "python3"
  },
  "language_info": {
   "codemirror_mode": {
    "name": "ipython",
    "version": 3
   },
   "file_extension": ".py",
   "mimetype": "text/x-python",
   "name": "python",
   "nbconvert_exporter": "python",
   "pygments_lexer": "ipython3",
   "version": "3.10.13"
  }
 },
 "nbformat": 4,
 "nbformat_minor": 5
}
